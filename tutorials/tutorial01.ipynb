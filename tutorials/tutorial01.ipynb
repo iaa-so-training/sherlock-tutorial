{
 "cells": [
  {
   "cell_type": "code",
   "execution_count": 6,
   "id": "2bc5aa8f",
   "metadata": {},
   "outputs": [
    {
     "ename": "ModuleNotFoundError",
     "evalue": "No module named 'sherlockpipe.sherlock'",
     "output_type": "error",
     "traceback": [
      "\u001b[0;31m---------------------------------------------------------------------------\u001b[0m",
      "\u001b[0;31mModuleNotFoundError\u001b[0m                       Traceback (most recent call last)",
      "Cell \u001b[0;32mIn[6], line 1\u001b[0m\n\u001b[0;32m----> 1\u001b[0m \u001b[38;5;28;01mfrom\u001b[39;00m \u001b[38;5;21;01msherlockpipe\u001b[39;00m\u001b[38;5;21;01m.\u001b[39;00m\u001b[38;5;21;01msherlock\u001b[39;00m \u001b[38;5;28;01mimport\u001b[39;00m Sherlock\n",
      "\u001b[0;31mModuleNotFoundError\u001b[0m: No module named 'sherlockpipe.sherlock'"
     ]
    }
   ],
   "source": [
    "from sherlockpipe.sherlock import Sherlock"
   ]
  },
  {
   "cell_type": "code",
   "execution_count": 2,
   "id": "801391c5",
   "metadata": {
    "tags": []
   },
   "outputs": [
    {
     "ename": "ModuleNotFoundError",
     "evalue": "No module named 'sherlockpipe.sherlock'",
     "output_type": "error",
     "traceback": [
      "\u001b[0;31m---------------------------------------------------------------------------\u001b[0m",
      "\u001b[0;31mModuleNotFoundError\u001b[0m                       Traceback (most recent call last)",
      "Cell \u001b[0;32mIn[2], line 4\u001b[0m\n\u001b[1;32m      2\u001b[0m \u001b[38;5;28;01mimport\u001b[39;00m \u001b[38;5;21;01mmultiprocessing\u001b[39;00m\n\u001b[1;32m      3\u001b[0m \u001b[38;5;28;01mimport\u001b[39;00m \u001b[38;5;21;01msherlockpipe\u001b[39;00m\n\u001b[0;32m----> 4\u001b[0m \u001b[38;5;28;01mfrom\u001b[39;00m \u001b[38;5;21;01msherlockpipe\u001b[39;00m\u001b[38;5;21;01m.\u001b[39;00m\u001b[38;5;21;01msherlock\u001b[39;00m \u001b[38;5;28;01mimport\u001b[39;00m Sherlock\n\u001b[1;32m      5\u001b[0m \u001b[38;5;28;01mfrom\u001b[39;00m \u001b[38;5;21;01mlcbuilder\u001b[39;00m\u001b[38;5;21;01m.\u001b[39;00m\u001b[38;5;21;01mobjectinfo\u001b[39;00m\u001b[38;5;21;01m.\u001b[39;00m\u001b[38;5;21;01mMissionObjectInfo\u001b[39;00m \u001b[38;5;28;01mimport\u001b[39;00m MissionObjectInfo\n\u001b[1;32m      6\u001b[0m \u001b[38;5;28;01mfrom\u001b[39;00m \u001b[38;5;21;01msherlockpipe\u001b[39;00m\u001b[38;5;21;01m.\u001b[39;00m\u001b[38;5;21;01msherlock_target\u001b[39;00m \u001b[38;5;28;01mimport\u001b[39;00m SherlockTarget\n",
      "\u001b[0;31mModuleNotFoundError\u001b[0m: No module named 'sherlockpipe.sherlock'"
     ]
    }
   ],
   "source": [
    "import os\n",
    "import multiprocessing\n",
    "import sherlockpipe\n",
    "from sherlockpipe.sherlock import Sherlock\n",
    "from lcbuilder.objectinfo.MissionObjectInfo import MissionObjectInfo\n",
    "from sherlockpipe.sherlock_target import SherlockTarget\n",
    "\n",
    "toi178_object_info = MissionObjectInfo(\"TIC 251848941\", [2])\n",
    "toi178_sherlock_target = SherlockTarget(object_info=toi178_object_info, detrends_number=4,\n",
    "                                        period_min=0.45, period_max=22, cpu_cores=multiprocessing.cpu_count() - 1,\n",
    "                                        best_signal_algorithm=\"quorum\", min_quorum=0.5)\n",
    "sherlock = Sherlock([toi178_sherlock_target], False)"
   ]
  },
  {
   "cell_type": "code",
   "execution_count": 5,
   "id": "b4af6e1a",
   "metadata": {},
   "outputs": [
    {
     "data": {
      "text/plain": [
       "\u001b[0;31mType:\u001b[0m        module\n",
       "\u001b[0;31mString form:\u001b[0m <module 'sherlockpipe' from '/home/jmoldon/miniconda3/envs/sherlock/lib/python3.8/site-packages/sherlockpipe/__init__.py'>\n",
       "\u001b[0;31mFile:\u001b[0m        ~/miniconda3/envs/sherlock/lib/python3.8/site-packages/sherlockpipe/__init__.py\n",
       "\u001b[0;31mDocstring:\u001b[0m   <no docstring>"
      ]
     },
     "metadata": {},
     "output_type": "display_data"
    }
   ],
   "source": [
    "sherlockpipe?\n"
   ]
  },
  {
   "cell_type": "code",
   "execution_count": null,
   "id": "709d54d8",
   "metadata": {},
   "outputs": [],
   "source": [
    "sherlock.run()"
   ]
  },
  {
   "cell_type": "code",
   "execution_count": null,
   "id": "247b2eb9",
   "metadata": {},
   "outputs": [],
   "source": [
    "your_execution_dir = os.getcwd()\n",
    "file_image = your_execution_dir + '/TIC251848941_[2]/1/Run_1_PDCSAP-FLUX_TIC251848941_[2].png'\n",
    "from IPython.display import Image\n",
    "Image(filename=file_image)"
   ]
  },
  {
   "cell_type": "code",
   "execution_count": null,
   "id": "96ed0364",
   "metadata": {},
   "outputs": [],
   "source": [
    "file_image = your_execution_dir + '/TIC251848941_[2]/3/Run_3_PDCSAP-FLUX_TIC251848941_[2].png'\n",
    "from IPython.display import Image\n",
    "Image(filename=file_image)"
   ]
  },
  {
   "cell_type": "code",
   "execution_count": null,
   "id": "2e4a4692",
   "metadata": {},
   "outputs": [],
   "source": [
    "file_image = your_execution_dir + '/TIC251848941_[2]/4/Run_4_PDCSAP-FLUX_TIC251848941_[2].png'\n",
    "from IPython.display import Image\n",
    "Image(filename=file_image)"
   ]
  },
  {
   "cell_type": "code",
   "execution_count": null,
   "id": "96aa76de",
   "metadata": {},
   "outputs": [],
   "source": [
    "file_image = your_execution_dir + '/TIC251848941_[2]/5/Run_5_PDCSAP-FLUX_TIC251848941_[2].png'\n",
    "from IPython.display import Image\n",
    "Image(filename=file_image)"
   ]
  },
  {
   "cell_type": "code",
   "execution_count": null,
   "id": "1b86db5f",
   "metadata": {},
   "outputs": [],
   "source": [
    "file_image = your_execution_dir + '/TIC251848941_[2]/6/Run_6_ws=1.4078_TIC251848941_[2].png'\n",
    "from IPython.display import Image\n",
    "Image(filename=file_image)"
   ]
  }
 ],
 "metadata": {
  "kernelspec": {
   "display_name": "Python 3 (ipykernel)",
   "language": "python",
   "name": "python3"
  },
  "language_info": {
   "codemirror_mode": {
    "name": "ipython",
    "version": 3
   },
   "file_extension": ".py",
   "mimetype": "text/x-python",
   "name": "python",
   "nbconvert_exporter": "python",
   "pygments_lexer": "ipython3",
   "version": "3.8.16"
  }
 },
 "nbformat": 4,
 "nbformat_minor": 5
}
